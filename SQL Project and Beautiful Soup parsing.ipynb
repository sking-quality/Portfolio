{
 "cells": [
  {
   "cell_type": "code",
   "execution_count": null,
   "metadata": {},
   "outputs": [],
   "source": [
    "#internet parsing\n",
    "import requests\n",
    "import re\n",
    "from bs4 import BeautifulSoup\n",
    "import pandas as pd\n",
    "\n",
    "URL = 'https://code.s3.yandex.net/data-analyst-eng/chicago_weather_2017.html'\n",
    "req = requests.get(URL)\n",
    "#req.text\n",
    "soup=BeautifulSoup(req.text, 'lxml')\n",
    "\n",
    "heading_table = [] # List where the names of the columns will be stored\n",
    "for row in soup.find_all('th'): # The names of the columns are inside <th> elements, \n",
    "# so we'll find all <th> elements in the table and run them through in a loop\n",
    "        heading_table.append(row.text) # Add content from the <th> tag to heading_table list using append() \n",
    "#print(heading_table)\n",
    "\n",
    "content=[] # list where the table data will be stored\n",
    "for row in soup.find_all('tr'): \n",
    "# Each row is wrapped in a <tr> tag, we need to loop through all the rows\n",
    "    if not row.find_all('th'): \n",
    "# We need this condition to ignore the first row of the table, with headings\n",
    "            content.append([element.text for element in row.find_all('td')])\n",
    "            # Within each row the cell content is wrapped in <td> </td> tags\n",
    "            # We need to loop through all <td> elements, extract the content from the cells, \n",
    "            # and add it to the list\n",
    "            # Then add each of the lists to the content list\n",
    "#print(content)\n",
    "\n",
    "weather_records = pd.DataFrame(content, columns=heading_table) \n",
    "# pass two-dimensional content list as data and heading_table as headings\n",
    "print(weather_records)"
   ]
  },
  {
   "cell_type": "markdown",
   "metadata": {},
   "source": [
    "1.\n",
    "Print the company_name field. Find the number of taxi rides for each taxi company for November 15-16, 2017, name the resulting field trips_amount, and print it, too. Sort the results by the trips_amount field in descending order.\n",
    "Hint\n",
    "Join the tables cabs and trips. Use aggregate functions and grouping. Don't forget to introduce a condition."
   ]
  },
  {
   "cell_type": "code",
   "execution_count": null,
   "metadata": {},
   "outputs": [],
   "source": [
    "SELECT\n",
    "    cabs.company_name,   \n",
    "    COUNT(trips.trip_id) AS trips_amount\n",
    "FROM\n",
    "    trips\n",
    "INNER JOIN cabs on cabs.cab_id = trips.cab_id\n",
    "WHERE\n",
    "    CAST(trips.start_ts AS date) between '2017-11-15' AND '2017-11-16'    \n",
    "GROUP BY\n",
    "    cabs.company_name\n",
    "ORDER BY\n",
    "    trips_amount DESC;"
   ]
  },
  {
   "cell_type": "markdown",
   "metadata": {},
   "source": [
    "2.\n",
    "Find the number of rides for every taxi company whose name contains the words \"Yellow\" or \"Blue\" for November 1-7, 2017. Name the resulting variable trips_amount. Group the results by the company_name field.\n",
    "Hint\n",
    "Join the tables cabs and trips. You can make calculations for one group of companies (e.g. those with the word \"Yellow\" in their name), then for the other, and finally group the results."
   ]
  },
  {
   "cell_type": "code",
   "execution_count": null,
   "metadata": {},
   "outputs": [],
   "source": [
    "SELECT\n",
    "    cabs.company_name,   \n",
    "    COUNT(trips.trip_id) AS trips_amount\n",
    "FROM\n",
    "    trips\n",
    "INNER JOIN cabs on cabs.cab_id = trips.cab_id\n",
    "WHERE\n",
    "    CAST(trips.start_ts AS date) between '2017-11-01' AND '2017-11-07'\n",
    "    AND (cabs.company_name LIKE '%Yellow%' OR cabs.company_name LIKE '%Blue%')\n",
    "GROUP BY\n",
    "    cabs.company_name\n",
    "ORDER BY\n",
    "    trips_amount DESC;"
   ]
  },
  {
   "cell_type": "markdown",
   "metadata": {},
   "source": [
    "You correctly completed the task"
   ]
  },
  {
   "cell_type": "markdown",
   "metadata": {},
   "source": [
    "3.\n",
    "For November 1-7, 2017, the most popular taxi companies were Flash Cab and Taxi Affiliation Services. Find the number of rides for these two companies and name the resulting variable trips_amount. Join the rides for all other companies in the group \"Other.\" Group the data by taxi company names. Name the field with taxi company names company. Sort the result in descending order by trips_amount.\n",
    "Hint\n",
    "Join the tables cabs and trips. Use the CASE construction to group the companies."
   ]
  },
  {
   "cell_type": "code",
   "execution_count": null,
   "metadata": {},
   "outputs": [],
   "source": [
    "SELECT\n",
    "        \n",
    "CASE \n",
    "\tWHEN (cabs.company_name = 'Flash Cab' OR cabs.company_name = 'Taxi Affiliation Services') \n",
    "    THEN cabs.company_name --'trips_amount'\n",
    "    ELSE  'Other'\n",
    "END AS company,\n",
    "    COUNT(trips.trip_id) AS trips_amount\n",
    "FROM\n",
    "    trips\n",
    "INNER JOIN cabs on cabs.cab_id = trips.cab_id\n",
    "WHERE\n",
    "    CAST(trips.start_ts AS date) between '2017-11-01' AND '2017-11-07'\n",
    "    --AND (cabs.company_name = 'Flash Cab' OR cabs.company_name = 'Taxi Affiliation Services')\n",
    "GROUP BY\n",
    "    company\n",
    "ORDER BY\n",
    "    trips_amount DESC;"
   ]
  },
  {
   "cell_type": "markdown",
   "metadata": {},
   "source": [
    "4.\n",
    "Find out where rides most often end. Find the average daily number of drop-offs in each Chicago neighborhood in the month that we have data for (November 2017). Name the resulting field average_trips. To retrieve the names of the neighborhoods, use the name field from the neighborhoods table. Rename it as dropoff_location_name in the resulting table. Sort the result in descending order by average_trips.\n",
    "Hint\n",
    "Join the tables trips and neighborhoods. In the subquery, get records for each day for each neighborhood. Use the EXTRACT operator (day from trips.end_ts) to retrieve data for individual days. Then take the average."
   ]
  },
  {
   "cell_type": "code",
   "execution_count": null,
   "metadata": {},
   "outputs": [],
   "source": [
    "SELECT\n",
    "    neighborhoods.name AS dropoff_location_name,\n",
    "    AVG(SUBQ.countrides)AS average_trips\n",
    "    \n",
    "FROM neighborhoods\n",
    "INNER JOIN\n",
    "    (SELECT\n",
    "     COUNT(trips.dropoff_location_id) AS countrides,\n",
    "     dropoff_location_id,\n",
    "     EXTRACT(DAY FROM CAST(trips.end_ts AS date)) AS day\n",
    "     FROM trips\n",
    "     GROUP BY day, dropoff_location_id\n",
    "     ) AS SUBQ ON SUBQ.dropoff_location_id = neighborhoods.neighborhood_id\n",
    "GROUP BY\n",
    "    dropoff_location_name\n",
    "ORDER BY\n",
    "    average_trips DESC;"
   ]
  },
  {
   "cell_type": "markdown",
   "metadata": {},
   "source": [
    "5.\n",
    "Retrieve the identifiers of the O'Hare and Loop neighborhoods from the neighborhoods table.\n",
    "Hint\n",
    "Use the condition name LIKE '%Hare' OR name LIKE 'Loop'\n",
    "The result should look like this:\n",
    "    \n",
    "neighborhood_id\tname\tColumn\n",
    "50\tLoop\t\n",
    "63\tO'Hare\t"
   ]
  },
  {
   "cell_type": "code",
   "execution_count": null,
   "metadata": {},
   "outputs": [],
   "source": [
    "SELECT\n",
    "   *\n",
    "FROM\n",
    "    neighborhoods\n",
    "WHERE name LIKE '%Hare' OR name LIKE 'Loop'\n",
    "    ;"
   ]
  },
  {
   "cell_type": "markdown",
   "metadata": {},
   "source": [
    "6.\n",
    "For each hour, retrieve the weather condition records from the weather_records table. Using the CASE operator, break all hours into two groups: \"Bad\" if the description field contains the words '\"rain\" or \"storm,\" and \"Good\" for others. Name the resulting field weather_conditions. The final table must include two fields: date and hour (ts) and weather_conditions.\n",
    "Hint\n",
    "Use the operators CASE, LIKE, and OR."
   ]
  },
  {
   "cell_type": "code",
   "execution_count": null,
   "metadata": {},
   "outputs": [],
   "source": [
    "SELECT\n",
    "--ts :: date AS date\n",
    "--EXTRACT(hour FROM ts) AS hour,\n",
    "\n",
    "ts,\n",
    "CASE\n",
    "    WHEN description LIKE '%rain%' OR description LIKE '%storm%'\n",
    "    THEN 'Bad'\n",
    "    ELSE 'Good'\n",
    "END AS weather_conditions\n",
    "\n",
    "FROM weather_records;"
   ]
  },
  {
   "cell_type": "markdown",
   "metadata": {},
   "source": [
    "7.\n",
    "Retrieve from the trips table all the rides that started in the Loop (neighborhood_id: 50) and ended at O'Hare (neighborhood_id: 63) on a Saturday. Get the weather conditions for each ride. Use the method you applied in the previous task. Also retrieve the duration of each ride. Ignore rides for which data on weather conditions is not available.\n",
    "The table columns should be in the following order:\n",
    "\n",
    "    start_ts\n",
    "    weather_conditions\n",
    "    duration_seconds\n",
    "\n",
    "Sort by start_ts.\n",
    "\n",
    "Use INNER JOIN and apply EXTRACT (DOW from trips.start_ts) = 6 to retrieve data on Saturday rides."
   ]
  },
  {
   "cell_type": "code",
   "execution_count": null,
   "metadata": {},
   "outputs": [],
   "source": [
    "SELECT\n",
    "   trips.start_ts,\n",
    "   \n",
    "CASE\n",
    "    WHEN description LIKE '%rain%' OR description LIKE '%storm%'\n",
    "    THEN 'Bad'\n",
    "    ELSE 'Good'\n",
    "END AS weather_conditions,\n",
    " trips.duration_seconds\n",
    "    \n",
    "FROM\n",
    "    trips\n",
    "INNER JOIN weather_records ON weather_records.ts = trips.start_ts\n",
    "WHERE\n",
    "pickup_location_id = 50 -- start at Loop\n",
    "AND\n",
    "dropoff_location_id = 63\n",
    "AND EXTRACT(dow FROM start_ts) = 6 -- Saturday = 6\n",
    "\n",
    "ORDER BY\n",
    "start_ts;"
   ]
  }
 ],
 "metadata": {
  "kernelspec": {
   "display_name": "Python 3",
   "language": "python",
   "name": "python3"
  },
  "language_info": {
   "codemirror_mode": {
    "name": "ipython",
    "version": 3
   },
   "file_extension": ".py",
   "mimetype": "text/x-python",
   "name": "python",
   "nbconvert_exporter": "python",
   "pygments_lexer": "ipython3",
   "version": "3.7.6"
  }
 },
 "nbformat": 4,
 "nbformat_minor": 4
}
